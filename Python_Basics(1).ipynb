{
  "nbformat": 4,
  "nbformat_minor": 0,
  "metadata": {
    "colab": {
      "provenance": []
    },
    "kernelspec": {
      "name": "python3",
      "display_name": "Python 3"
    },
    "language_info": {
      "name": "python"
    }
  },
  "cells": [
    {
      "cell_type": "code",
      "execution_count": null,
      "metadata": {
        "id": "ygFhg1o76UMd",
        "colab": {
          "base_uri": "https://localhost:8080/"
        },
        "outputId": "49ee2003-7d2f-4855-a962-6c975ff54141"
      },
      "outputs": [
        {
          "output_type": "stream",
          "name": "stdout",
          "text": [
            "50\n"
          ]
        }
      ],
      "source": [
        "x =50\n",
        "print(x)\n"
      ]
    },
    {
      "cell_type": "code",
      "source": [
        "# variable is case sensitive\n",
        "total = 55\n",
        "TOTAL = 32\n",
        "print(total)\n",
        "print(TOTAL)"
      ],
      "metadata": {
        "colab": {
          "base_uri": "https://localhost:8080/"
        },
        "id": "-6R49rZKhUV4",
        "outputId": "5eff2aef-1ed6-4570-8cfb-8572632971d7"
      },
      "execution_count": null,
      "outputs": [
        {
          "output_type": "stream",
          "name": "stdout",
          "text": [
            "55\n",
            "32\n"
          ]
        }
      ]
    },
    {
      "cell_type": "code",
      "source": [
        "a = 10      #If two different variable has same value then it's id will be same\n",
        "b = 10\n",
        "print(type(a))   # to write type of a\n",
        "print(id(a))\n",
        "print(id(b))"
      ],
      "metadata": {
        "colab": {
          "base_uri": "https://localhost:8080/"
        },
        "id": "WAwfOlsvh_le",
        "outputId": "145f98ed-9226-4c3a-869c-61d99078d414"
      },
      "execution_count": null,
      "outputs": [
        {
          "output_type": "stream",
          "name": "stdout",
          "text": [
            "<class 'int'>\n",
            "11531200\n",
            "11531200\n"
          ]
        }
      ]
    },
    {
      "cell_type": "code",
      "source": [
        "a = 1.2\n",
        "print(a)\n",
        "print(type(a))\n",
        "print(int(a))    #This is typecasting means change of datatype"
      ],
      "metadata": {
        "colab": {
          "base_uri": "https://localhost:8080/"
        },
        "id": "X3Z9ZkwJkrCo",
        "outputId": "c5cc41ff-0ec4-4fca-9f82-15da48ab4bdf"
      },
      "execution_count": null,
      "outputs": [
        {
          "output_type": "stream",
          "name": "stdout",
          "text": [
            "1.2\n",
            "<class 'float'>\n",
            "1\n"
          ]
        }
      ]
    },
    {
      "cell_type": "code",
      "source": [
        "a = 3+2j\n",
        "b = 6+1.5j\n",
        "c = a+b\n",
        "print(type(a))\n",
        "print(c)\n",
        "print(int(a))    #We can not typecast complex into any datatype it gives error"
      ],
      "metadata": {
        "colab": {
          "base_uri": "https://localhost:8080/",
          "height": 235
        },
        "id": "71PoLSN4mFyo",
        "outputId": "08aa081a-356e-4f26-a9b6-ec36b82b709e"
      },
      "execution_count": null,
      "outputs": [
        {
          "output_type": "stream",
          "name": "stdout",
          "text": [
            "<class 'complex'>\n",
            "(9+3.5j)\n"
          ]
        },
        {
          "output_type": "error",
          "ename": "TypeError",
          "evalue": "ignored",
          "traceback": [
            "\u001b[0;31m---------------------------------------------------------------------------\u001b[0m",
            "\u001b[0;31mTypeError\u001b[0m                                 Traceback (most recent call last)",
            "\u001b[0;32m<ipython-input-11-5d7bc1aba34b>\u001b[0m in \u001b[0;36m<module>\u001b[0;34m\u001b[0m\n\u001b[1;32m      4\u001b[0m \u001b[0mprint\u001b[0m\u001b[0;34m(\u001b[0m\u001b[0mtype\u001b[0m\u001b[0;34m(\u001b[0m\u001b[0ma\u001b[0m\u001b[0;34m)\u001b[0m\u001b[0;34m)\u001b[0m\u001b[0;34m\u001b[0m\u001b[0;34m\u001b[0m\u001b[0m\n\u001b[1;32m      5\u001b[0m \u001b[0mprint\u001b[0m\u001b[0;34m(\u001b[0m\u001b[0mc\u001b[0m\u001b[0;34m)\u001b[0m\u001b[0;34m\u001b[0m\u001b[0;34m\u001b[0m\u001b[0m\n\u001b[0;32m----> 6\u001b[0;31m \u001b[0mprint\u001b[0m\u001b[0;34m(\u001b[0m\u001b[0mint\u001b[0m\u001b[0;34m(\u001b[0m\u001b[0ma\u001b[0m\u001b[0;34m)\u001b[0m\u001b[0;34m)\u001b[0m\u001b[0;34m\u001b[0m\u001b[0;34m\u001b[0m\u001b[0m\n\u001b[0m",
            "\u001b[0;31mTypeError\u001b[0m: can't convert complex to int"
          ]
        }
      ]
    },
    {
      "cell_type": "code",
      "source": [
        "a = 10\n",
        "b = 20\n",
        "c = a<b\n",
        "print(c)\n",
        "print(type(c))"
      ],
      "metadata": {
        "colab": {
          "base_uri": "https://localhost:8080/"
        },
        "id": "rehSs6JQkj_d",
        "outputId": "081ffa25-cf7e-4024-99d7-26adb4b5428e"
      },
      "execution_count": null,
      "outputs": [
        {
          "output_type": "stream",
          "name": "stdout",
          "text": [
            "True\n",
            "<class 'bool'>\n"
          ]
        }
      ]
    },
    {
      "cell_type": "code",
      "source": [
        "c = True + True  #Python interpretor internally writes true as 1 and false as 0\n",
        "d = True + False\n",
        "print(type(c))\n",
        "print(int(c))\n",
        "print(int(d))"
      ],
      "metadata": {
        "colab": {
          "base_uri": "https://localhost:8080/"
        },
        "id": "YWg62nGln9zv",
        "outputId": "ebd61078-ec6d-4330-da3f-3c82c8bdfd03"
      },
      "execution_count": null,
      "outputs": [
        {
          "output_type": "stream",
          "name": "stdout",
          "text": [
            "<class 'int'>\n",
            "2\n",
            "1\n"
          ]
        }
      ]
    },
    {
      "cell_type": "code",
      "source": [
        "A = \"Artificial Intelligence\"  # String must me inclosed in \" \" or ' '\n",
        "B = \"20\"\n",
        "a = ''' My name\n",
        "           is \n",
        "             Abhijeet '''  # Multiline string should be written in triple single quote ('''  ''') or double quote (\"\"\"  \"\"\") \n",
        "print(type(A))\n",
        "print(type(B))\n",
        "print(a)\n",
        "print(int(B))     # We can do string 20 to int 20 by typecasting "
      ],
      "metadata": {
        "colab": {
          "base_uri": "https://localhost:8080/"
        },
        "id": "CYbI8zycpWt-",
        "outputId": "3ed4e7ce-8758-4998-8f43-b9320349c70a"
      },
      "execution_count": null,
      "outputs": [
        {
          "output_type": "stream",
          "name": "stdout",
          "text": [
            "<class 'str'>\n",
            "<class 'str'>\n",
            " My name \n",
            "           is \n",
            "             Abhijeet \n",
            "20\n"
          ]
        }
      ]
    },
    {
      "cell_type": "markdown",
      "source": [
        "#**STRING SLICING** - Make pieces of string"
      ],
      "metadata": {
        "id": "Edv_lf0EswGx"
      }
    },
    {
      "cell_type": "code",
      "source": [
        "a = \"Artificial Intelligence\"\n",
        "print(a[0])            # In string slicing counting done from A^0 r^1 t^2.....\n",
        "print(a[3])\n",
        "print(a[-5])           # In -ve index means backward direction left to right e^-1 c^-2 n^-3 e^-4 g^-5\n",
        "print(a[2:6])          # Starting from 2 to 5 not including 6\n",
        "print(a[:6])           # Starting from 0 to 5 not including 6\n",
        "print(a[:])            # Print all letters"
      ],
      "metadata": {
        "colab": {
          "base_uri": "https://localhost:8080/"
        },
        "id": "1jqZUfGBtYRs",
        "outputId": "bb5f399e-7960-48cd-d67b-8904f3e874ee"
      },
      "execution_count": null,
      "outputs": [
        {
          "output_type": "stream",
          "name": "stdout",
          "text": [
            "A\n",
            "i\n",
            "g\n",
            "tifi\n",
            "Artifi\n",
            "Artificial Intelligence\n"
          ]
        }
      ]
    },
    {
      "cell_type": "code",
      "source": [
        "a = \"Artificial Intelligence\"\n",
        "print(a[2:8:3])       # This is stepping means write word from 2 to 8 by gap of 3 (2,5)\n",
        "print(a[::-1])        # This is very important string reverse writtng"
      ],
      "metadata": {
        "colab": {
          "base_uri": "https://localhost:8080/"
        },
        "id": "C1NkhSTExDyQ",
        "outputId": "7b0296a4-d351-4c2c-e94d-4dd84fb4454b"
      },
      "execution_count": null,
      "outputs": [
        {
          "output_type": "stream",
          "name": "stdout",
          "text": [
            "ti\n",
            "ecnegilletnI laicifitrA\n"
          ]
        }
      ]
    },
    {
      "cell_type": "markdown",
      "source": [
        "# **Typecasting** - We convert one datatype to another datatype by **datatype(variable)**"
      ],
      "metadata": {
        "id": "UzvpsqqXy8yA"
      }
    },
    {
      "cell_type": "code",
      "source": [
        "x = 1.999\n",
        "print(type(x))\n",
        "print(int (x))     # Float to integer\n",
        "print(str(x))       # Float to string\n",
        "print(bool(x))       # Float to boolean"
      ],
      "metadata": {
        "colab": {
          "base_uri": "https://localhost:8080/"
        },
        "id": "ArcBEwiezylT",
        "outputId": "0d9f933a-42e6-40de-d567-02cd63682a29"
      },
      "execution_count": null,
      "outputs": [
        {
          "output_type": "stream",
          "name": "stdout",
          "text": [
            "<class 'float'>\n",
            "1\n",
            "1.999\n",
            "True\n"
          ]
        }
      ]
    },
    {
      "cell_type": "code",
      "source": [
        "x = True\n",
        "y = False\n",
        "print(type(x))\n",
        "print(type(y))\n",
        "print(int(x))          # boolean to integer\n",
        "print(int(y))\n",
        "print(float(x))        # boolean to float\n",
        "print(float(y))\n",
        "print(complex(x))      # boolean to complex\n",
        "print(complex(y))"
      ],
      "metadata": {
        "colab": {
          "base_uri": "https://localhost:8080/"
        },
        "id": "_q-07pUH0eEB",
        "outputId": "daba81c5-1e2c-4294-c7de-eba3a9a07a3d"
      },
      "execution_count": null,
      "outputs": [
        {
          "output_type": "stream",
          "name": "stdout",
          "text": [
            "<class 'bool'>\n",
            "<class 'bool'>\n",
            "1\n",
            "0\n",
            "1.0\n",
            "0.0\n",
            "(1+0j)\n",
            "0j\n"
          ]
        }
      ]
    },
    {
      "cell_type": "code",
      "source": [
        "a = complex(True,False)\n",
        "b = complex(10,-2)\n",
        "c = complex(5,1.3)\n",
        "print(type(a))\n",
        "print(a)\n",
        "print(b)\n",
        "print(c)"
      ],
      "metadata": {
        "colab": {
          "base_uri": "https://localhost:8080/"
        },
        "id": "CteVyW6c2Yly",
        "outputId": "f6151566-596a-40f5-da55-9ea69c323b69"
      },
      "execution_count": null,
      "outputs": [
        {
          "output_type": "stream",
          "name": "stdout",
          "text": [
            "<class 'complex'>\n",
            "(1+0j)\n",
            "(10-2j)\n",
            "(5+1.3j)\n"
          ]
        }
      ]
    },
    {
      "cell_type": "code",
      "source": [
        "a = bool(0)       #False\n",
        "b = bool(1)       #True\n",
        "c = bool(-1)      #True \n",
        "d = bool(100)     #True (Value other than zero are true)\n",
        "e = bool(0.0)     #False\n",
        "f = bool(3.8)     #True\n",
        "print(a)\n",
        "print(b)\n",
        "print(c)\n",
        "print(d)\n",
        "print(e)\n",
        "print(f)"
      ],
      "metadata": {
        "colab": {
          "base_uri": "https://localhost:8080/"
        },
        "id": "RXhrDiQt3LmD",
        "outputId": "6593d527-507e-484e-d740-d8046e889167"
      },
      "execution_count": null,
      "outputs": [
        {
          "output_type": "stream",
          "name": "stdout",
          "text": [
            "False\n",
            "True\n",
            "True\n",
            "True\n",
            "False\n",
            "True\n"
          ]
        }
      ]
    },
    {
      "cell_type": "markdown",
      "source": [
        "**All fundamental datatypes (int,float,bool,complex,str) are immutable means once object(variable) created can not modified or create new object.** "
      ],
      "metadata": {
        "id": "r-mJ_nR76h9K"
      }
    },
    {
      "cell_type": "code",
      "source": [
        "a = \"Artificial\"\n",
        "a[0] = B  # I am saying A letter by B. But string is immutable. Following error occurs"
      ],
      "metadata": {
        "colab": {
          "base_uri": "https://localhost:8080/",
          "height": 183
        },
        "id": "O7xyPlcX7wHI",
        "outputId": "1a84f83a-5981-4fd0-ff59-f1ec1e32bff9"
      },
      "execution_count": null,
      "outputs": [
        {
          "output_type": "error",
          "ename": "TypeError",
          "evalue": "ignored",
          "traceback": [
            "\u001b[0;31m---------------------------------------------------------------------------\u001b[0m",
            "\u001b[0;31mTypeError\u001b[0m                                 Traceback (most recent call last)",
            "\u001b[0;32m<ipython-input-34-f876bcd26523>\u001b[0m in \u001b[0;36m<module>\u001b[0;34m\u001b[0m\n\u001b[1;32m      1\u001b[0m \u001b[0ma\u001b[0m \u001b[0;34m=\u001b[0m \u001b[0;34m\"Artificial\"\u001b[0m\u001b[0;34m\u001b[0m\u001b[0;34m\u001b[0m\u001b[0m\n\u001b[0;32m----> 2\u001b[0;31m \u001b[0ma\u001b[0m\u001b[0;34m[\u001b[0m\u001b[0;36m0\u001b[0m\u001b[0;34m]\u001b[0m \u001b[0;34m=\u001b[0m \u001b[0mB\u001b[0m\u001b[0;34m\u001b[0m\u001b[0;34m\u001b[0m\u001b[0m\n\u001b[0m",
            "\u001b[0;31mTypeError\u001b[0m: 'str' object does not support item assignment"
          ]
        }
      ]
    },
    {
      "cell_type": "code",
      "source": [
        "a = [10,20,30,40,10]      # This is list which is mutable means list[10,20,30,40,10] 10 is replaced by 90 list[90,20,30,40,10] \n",
        "a[0] = 90\n",
        "print(a)"
      ],
      "metadata": {
        "colab": {
          "base_uri": "https://localhost:8080/"
        },
        "id": "4uufCXL78jvL",
        "outputId": "e01ecdb5-e89a-4de9-e5cf-4f559f47c6ba"
      },
      "execution_count": null,
      "outputs": [
        {
          "output_type": "stream",
          "name": "stdout",
          "text": [
            "[90, 20, 30, 40, 10]\n"
          ]
        }
      ]
    },
    {
      "cell_type": "markdown",
      "source": [
        "### **6] Byte datatype**\n",
        "\n",
        "**Byte datatype represents group of byte integer numbers just like as array**"
      ],
      "metadata": {
        "id": "ZX6MdYmb-XBl"
      }
    },
    {
      "cell_type": "code",
      "source": [
        "a = [10,1,3,200]     \n",
        "print(type(a))        # Python reads a as list datatype\n",
        "\n",
        "b = bytes(a)          # We have to explicitly mention datatype as bytes\n",
        "print(type(b))        # Byte datatype contains only integer numbers ranging 0-256 excluding 256 upto 255"
      ],
      "metadata": {
        "colab": {
          "base_uri": "https://localhost:8080/"
        },
        "id": "uEMM48PA_XBA",
        "outputId": "8a9ea63d-2282-4698-aec5-b18915516d55"
      },
      "execution_count": null,
      "outputs": [
        {
          "output_type": "stream",
          "name": "stdout",
          "text": [
            "<class 'list'>\n",
            "<class 'bytes'>\n"
          ]
        }
      ]
    },
    {
      "cell_type": "code",
      "source": [
        "a = bytes[10,20,30,60]   # Byte datatypes are immutable\n",
        "a[1] = 90"
      ],
      "metadata": {
        "colab": {
          "base_uri": "https://localhost:8080/",
          "height": 183
        },
        "id": "JQlvwevNCZFq",
        "outputId": "46b0db82-d5a3-4f58-80d0-16f4731c8ae8"
      },
      "execution_count": null,
      "outputs": [
        {
          "output_type": "error",
          "ename": "TypeError",
          "evalue": "ignored",
          "traceback": [
            "\u001b[0;31m---------------------------------------------------------------------------\u001b[0m",
            "\u001b[0;31mTypeError\u001b[0m                                 Traceback (most recent call last)",
            "\u001b[0;32m<ipython-input-41-9630e9e41e73>\u001b[0m in \u001b[0;36m<module>\u001b[0;34m\u001b[0m\n\u001b[0;32m----> 1\u001b[0;31m \u001b[0ma\u001b[0m \u001b[0;34m=\u001b[0m \u001b[0mbytes\u001b[0m\u001b[0;34m[\u001b[0m\u001b[0;36m10\u001b[0m\u001b[0;34m,\u001b[0m\u001b[0;36m20\u001b[0m\u001b[0;34m,\u001b[0m\u001b[0;36m30\u001b[0m\u001b[0;34m,\u001b[0m\u001b[0;36m60\u001b[0m\u001b[0;34m]\u001b[0m\u001b[0;34m\u001b[0m\u001b[0;34m\u001b[0m\u001b[0m\n\u001b[0m\u001b[1;32m      2\u001b[0m \u001b[0ma\u001b[0m\u001b[0;34m[\u001b[0m\u001b[0;36m1\u001b[0m\u001b[0;34m]\u001b[0m \u001b[0;34m=\u001b[0m \u001b[0;36m90\u001b[0m\u001b[0;34m\u001b[0m\u001b[0;34m\u001b[0m\u001b[0m\n",
            "\u001b[0;31mTypeError\u001b[0m: 'type' object is not subscriptable"
          ]
        }
      ]
    },
    {
      "cell_type": "markdown",
      "source": [
        "# **7] Bytearray Datatype**\n",
        "\n",
        "**It is same as bytes datatype but it's elements can be modified.**"
      ],
      "metadata": {
        "id": "Tznd8K30DIUi"
      }
    },
    {
      "cell_type": "code",
      "source": [
        "a = [10,30,40,70,255,10]\n",
        "b = bytearray(a)\n",
        "b[0] = 50\n",
        "print(b)                        # We get output means bytearray is mutable but to see output we have use for loop\n",
        "for i in b:\n",
        "  print(i)                      # Before print there should be space in for loop it is called indentation."
      ],
      "metadata": {
        "colab": {
          "base_uri": "https://localhost:8080/"
        },
        "id": "SNGyi3JwD0CB",
        "outputId": "7bf0e46f-31ae-46a9-f410-1b3c7fe6129d"
      },
      "execution_count": null,
      "outputs": [
        {
          "output_type": "stream",
          "name": "stdout",
          "text": [
            "bytearray(b'2\\x1e(F\\xff\\n')\n",
            "50\n",
            "30\n",
            "40\n",
            "70\n",
            "255\n",
            "10\n"
          ]
        }
      ]
    },
    {
      "cell_type": "code",
      "source": [],
      "metadata": {
        "id": "249HKlS4Ihvb"
      },
      "execution_count": null,
      "outputs": []
    },
    {
      "cell_type": "markdown",
      "source": [
        "# **8] List Datatype**\n",
        "\n",
        "**Represents group of values as single entity where insertion order required to preserve and duplicates are allowed then we should go for list datatype.**\n",
        "\n",
        "1.   Insertion order is preserved.  (Means Sequence of elements can not changed)\n",
        "2.   Heterogenous objects are allowed.(int,float,str,bool)\n",
        "3.   Dupliacates are allowed. (e.g a=[10,20,3.0,\"Abhi\",10)\n",
        "4.   Growable in nature.  (By method append and remove)\n",
        "5.   Elements enclosed in square brackets.\n",
        "\n",
        "\n",
        "\n",
        "\n"
      ],
      "metadata": {
        "id": "hL14bAjYHKQ1"
      }
    },
    {
      "cell_type": "code",
      "source": [
        "list1 = [10,12,1.9,30,10,\"Abhi\",True]   # Heterogenous(Different datatype collection)\n",
        "print(type(list1))\n",
        "list1[0] = 40                           # List datatype is mutable means 10 is replaced by 40\n",
        "print(list1)\n"
      ],
      "metadata": {
        "colab": {
          "base_uri": "https://localhost:8080/"
        },
        "id": "g5hz4PnfKYYR",
        "outputId": "82de68f9-ce4e-433e-9963-83a7b9819021"
      },
      "execution_count": null,
      "outputs": [
        {
          "output_type": "stream",
          "name": "stdout",
          "text": [
            "<class 'list'>\n",
            "[40, 12, 1.9, 30, 10, 'Abhi', True]\n"
          ]
        }
      ]
    },
    {
      "cell_type": "code",
      "source": [
        "list1 = [20,40,50,2.5,\"bac\",False]\n",
        "list1.append(100)                   # list1 is growable we can add element 100 by method append\n",
        "print(list1)"
      ],
      "metadata": {
        "colab": {
          "base_uri": "https://localhost:8080/"
        },
        "id": "WQFNn4HYMTgh",
        "outputId": "1d8f720c-42a6-46d8-f3c5-091214c55fd9"
      },
      "execution_count": null,
      "outputs": [
        {
          "output_type": "stream",
          "name": "stdout",
          "text": [
            "[20, 40, 50, 2.5, 'bac', False, 100]\n"
          ]
        }
      ]
    },
    {
      "cell_type": "code",
      "source": [
        "list1 = [20,40,20,50,2.5,\"bac\",False]\n",
        "list1.remove(20)                       # There are two 20 elements but it remove first 20 element\n",
        "print(list1)"
      ],
      "metadata": {
        "colab": {
          "base_uri": "https://localhost:8080/"
        },
        "id": "6qIMXj2aNc_z",
        "outputId": "62711b01-4e3b-4020-b262-b8b9a035039a"
      },
      "execution_count": null,
      "outputs": [
        {
          "output_type": "stream",
          "name": "stdout",
          "text": [
            "[40, 20, 50, 2.5, 'bac', False]\n"
          ]
        }
      ]
    },
    {
      "cell_type": "code",
      "source": [
        "list1 = [20,40,20,50,2.5,\"bac\",False]\n",
        "list2 = list1 * 2                       # List is duplicable\n",
        "print(list2)"
      ],
      "metadata": {
        "colab": {
          "base_uri": "https://localhost:8080/"
        },
        "id": "N3vy0MQ8OWrs",
        "outputId": "7a89e3c1-b135-47bc-fd3f-4db9220d0764"
      },
      "execution_count": null,
      "outputs": [
        {
          "output_type": "stream",
          "name": "stdout",
          "text": [
            "[20, 40, 20, 50, 2.5, 'bac', False, 20, 40, 20, 50, 2.5, 'bac', False]\n"
          ]
        }
      ]
    },
    {
      "cell_type": "markdown",
      "source": [
        "# **9] Tuple Datatype**\n",
        "\n",
        "1.   Exactly same as list but it is **immutable**.\n",
        "2.   Tuple represented by parenthesis**( )**.\n",
        "3.   Tuple is read only version of list.\n",
        "\n"
      ],
      "metadata": {
        "id": "XoAFVucy619i"
      }
    },
    {
      "cell_type": "code",
      "source": [
        "a = (10,20,50,1.2,\"Abhi\",True)  # Tuple is immutable\n",
        "a[1]= 40\n",
        "print(a)"
      ],
      "metadata": {
        "colab": {
          "base_uri": "https://localhost:8080/",
          "height": 201
        },
        "id": "bQR5NmXq8K_E",
        "outputId": "7950023e-4de5-41e4-b7ae-041be838520b"
      },
      "execution_count": null,
      "outputs": [
        {
          "output_type": "error",
          "ename": "TypeError",
          "evalue": "ignored",
          "traceback": [
            "\u001b[0;31m---------------------------------------------------------------------------\u001b[0m",
            "\u001b[0;31mTypeError\u001b[0m                                 Traceback (most recent call last)",
            "\u001b[0;32m<ipython-input-1-7e28753bfd1c>\u001b[0m in \u001b[0;36m<module>\u001b[0;34m\u001b[0m\n\u001b[1;32m      1\u001b[0m \u001b[0ma\u001b[0m \u001b[0;34m=\u001b[0m \u001b[0;34m(\u001b[0m\u001b[0;36m10\u001b[0m\u001b[0;34m,\u001b[0m\u001b[0;36m20\u001b[0m\u001b[0;34m,\u001b[0m\u001b[0;36m50\u001b[0m\u001b[0;34m,\u001b[0m\u001b[0;36m1.2\u001b[0m\u001b[0;34m,\u001b[0m\u001b[0;34m\"Abhi\"\u001b[0m\u001b[0;34m,\u001b[0m\u001b[0;32mTrue\u001b[0m\u001b[0;34m)\u001b[0m\u001b[0;34m\u001b[0m\u001b[0;34m\u001b[0m\u001b[0m\n\u001b[0;32m----> 2\u001b[0;31m \u001b[0ma\u001b[0m\u001b[0;34m[\u001b[0m\u001b[0;36m1\u001b[0m\u001b[0;34m]\u001b[0m\u001b[0;34m=\u001b[0m \u001b[0;36m40\u001b[0m\u001b[0;34m\u001b[0m\u001b[0;34m\u001b[0m\u001b[0m\n\u001b[0m\u001b[1;32m      3\u001b[0m \u001b[0mprint\u001b[0m\u001b[0;34m(\u001b[0m\u001b[0ma\u001b[0m\u001b[0;34m)\u001b[0m\u001b[0;34m\u001b[0m\u001b[0;34m\u001b[0m\u001b[0m\n",
            "\u001b[0;31mTypeError\u001b[0m: 'tuple' object does not support item assignment"
          ]
        }
      ]
    },
    {
      "cell_type": "markdown",
      "source": [
        "# **10] Range Datatype**\n",
        "\n",
        "\n",
        "1.   Range datatype represents a sequence of numbers.\n",
        "2.   The elements presents in range data type are not **modified**\n",
        "3.   Range is **immutable.**\n"
      ],
      "metadata": {
        "id": "g-35t7M386UP"
      }
    },
    {
      "cell_type": "code",
      "source": [
        "a =range(10)\n",
        "print(a)\n",
        "for x in a:\n",
        "  print(x)\n",
        "  "
      ],
      "metadata": {
        "colab": {
          "base_uri": "https://localhost:8080/"
        },
        "id": "bz7pXgeG93w4",
        "outputId": "9f04aefd-efeb-4ba8-dcf1-3cf6bd2e9f9f"
      },
      "execution_count": null,
      "outputs": [
        {
          "output_type": "stream",
          "name": "stdout",
          "text": [
            "range(0, 10)\n",
            "0\n",
            "1\n",
            "2\n",
            "3\n",
            "4\n",
            "5\n",
            "6\n",
            "7\n",
            "8\n",
            "9\n"
          ]
        }
      ]
    },
    {
      "cell_type": "code",
      "source": [
        "a = range(10,20)\n",
        "for x in a:\n",
        "  print(x)"
      ],
      "metadata": {
        "colab": {
          "base_uri": "https://localhost:8080/"
        },
        "id": "oRmfYllH2a5d",
        "outputId": "bd8d7a47-1d4e-45fb-b9ea-36182cf558e0"
      },
      "execution_count": null,
      "outputs": [
        {
          "output_type": "stream",
          "name": "stdout",
          "text": [
            "10\n",
            "11\n",
            "12\n",
            "13\n",
            "14\n",
            "15\n",
            "16\n",
            "17\n",
            "18\n",
            "19\n"
          ]
        }
      ]
    },
    {
      "cell_type": "code",
      "source": [
        "a = range(10,20,2)\n",
        "for x in a:\n",
        "  print(x)\n",
        "print(a[0])     # To access elements present in range datatype by using index."
      ],
      "metadata": {
        "colab": {
          "base_uri": "https://localhost:8080/"
        },
        "id": "Crfzc1f-26Wc",
        "outputId": "dae22100-d247-4b86-f9c8-3e5c4f010040"
      },
      "execution_count": null,
      "outputs": [
        {
          "output_type": "stream",
          "name": "stdout",
          "text": [
            "10\n",
            "12\n",
            "14\n",
            "16\n",
            "18\n",
            "10\n"
          ]
        }
      ]
    },
    {
      "cell_type": "code",
      "source": [
        "a = list(range(10,20))   # We can create list datatype from range datatype \n",
        "print(a)"
      ],
      "metadata": {
        "colab": {
          "base_uri": "https://localhost:8080/"
        },
        "id": "zzrDCT5V4w__",
        "outputId": "c8aaef3a-d6a3-40ab-c122-1f529a825eea"
      },
      "execution_count": null,
      "outputs": [
        {
          "output_type": "stream",
          "name": "stdout",
          "text": [
            "[10, 11, 12, 13, 14, 15, 16, 17, 18, 19]\n"
          ]
        }
      ]
    },
    {
      "cell_type": "markdown",
      "source": [
        "# **11] Set Datatype**\n",
        "\n",
        "If we want to represent a group of values **without duplicates** where **order is not important** then we should go for set datatype.\n",
        "\n",
        "\n",
        "1.   **Insertion** order is **not** preserved.\n",
        "2.   **Duplicates** are **not** allowed.\n",
        "3.   **Hetrogenous** objects are **allowed**.\n",
        "4.   **Index concepts** is **not** applicable.\n",
        "5.   It is **mutable** collection.\n",
        "6.   **Growable** in nature.\n",
        "7.   Represents by curl brackets **{ }**.\n",
        "\n"
      ],
      "metadata": {
        "id": "Q_1tw3lK5bPI"
      }
    },
    {
      "cell_type": "code",
      "source": [
        "set1 = {10,20,1.25,\"Data\",True,\"Mohan\"}  # Heterogenous , represented by { }\n",
        "set1[1] = 60                             # Index concepts not allowed"
      ],
      "metadata": {
        "colab": {
          "base_uri": "https://localhost:8080/",
          "height": 183
        },
        "id": "BJtyGrl78aEO",
        "outputId": "fe07d518-e52e-4cf0-ca40-978a6ac62862"
      },
      "execution_count": null,
      "outputs": [
        {
          "output_type": "error",
          "ename": "TypeError",
          "evalue": "ignored",
          "traceback": [
            "\u001b[0;31m---------------------------------------------------------------------------\u001b[0m",
            "\u001b[0;31mTypeError\u001b[0m                                 Traceback (most recent call last)",
            "\u001b[0;32m<ipython-input-12-13d54b848fce>\u001b[0m in \u001b[0;36m<module>\u001b[0;34m\u001b[0m\n\u001b[1;32m      1\u001b[0m \u001b[0mset1\u001b[0m \u001b[0;34m=\u001b[0m \u001b[0;34m{\u001b[0m\u001b[0;36m10\u001b[0m\u001b[0;34m,\u001b[0m\u001b[0;36m20\u001b[0m\u001b[0;34m,\u001b[0m\u001b[0;36m1.25\u001b[0m\u001b[0;34m,\u001b[0m\u001b[0;34m\"Data\"\u001b[0m\u001b[0;34m,\u001b[0m\u001b[0;32mTrue\u001b[0m\u001b[0;34m,\u001b[0m\u001b[0;34m\"Mohan\"\u001b[0m\u001b[0;34m}\u001b[0m\u001b[0;34m\u001b[0m\u001b[0;34m\u001b[0m\u001b[0m\n\u001b[0;32m----> 2\u001b[0;31m \u001b[0mset1\u001b[0m\u001b[0;34m[\u001b[0m\u001b[0;36m1\u001b[0m\u001b[0;34m]\u001b[0m \u001b[0;34m=\u001b[0m \u001b[0;36m60\u001b[0m\u001b[0;34m\u001b[0m\u001b[0;34m\u001b[0m\u001b[0m\n\u001b[0m",
            "\u001b[0;31mTypeError\u001b[0m: 'set' object does not support item assignment"
          ]
        }
      ]
    },
    {
      "cell_type": "code",
      "source": [
        "set1 = {10,20,30,1.25,10,20,\"data\",\"data\"}\n",
        "print(set1)                                 #Duplicates are not allowed and order is not fixed\n",
        "set1.add(\"Mohan\")                                #Growwable in nature.\n",
        "print(set1)\n",
        "set1.remove(30)\n",
        "print(set1)"
      ],
      "metadata": {
        "colab": {
          "base_uri": "https://localhost:8080/"
        },
        "id": "hNkOJvE59gLr",
        "outputId": "0a0b408e-5f54-4d6c-e07b-8ec8c68e5aaf"
      },
      "execution_count": null,
      "outputs": [
        {
          "output_type": "stream",
          "name": "stdout",
          "text": [
            "{1.25, 'data', 10, 20, 30}\n",
            "{1.25, 'data', 10, 'Mohan', 20, 30}\n",
            "{1.25, 'data', 10, 'Mohan', 20}\n"
          ]
        }
      ]
    },
    {
      "cell_type": "markdown",
      "source": [
        "# **12] Frozenset Datatype**\n",
        "\n",
        "1.   It is exactly **same as** set data type except that it is **immutable**.\n",
        "2.   Hence we **can not** perform **add** and **remove** functions. \n",
        "\n"
      ],
      "metadata": {
        "id": "usttQcGUBQby"
      }
    },
    {
      "cell_type": "code",
      "source": [
        "s = {10,20,30,\"data\",1.5,True}\n",
        "fs = frozenset(s)\n",
        "print(type(fs))"
      ],
      "metadata": {
        "colab": {
          "base_uri": "https://localhost:8080/"
        },
        "id": "DZtpARHfCen-",
        "outputId": "f223fa70-224b-40cc-9011-11c6608b4556"
      },
      "execution_count": null,
      "outputs": [
        {
          "output_type": "stream",
          "name": "stdout",
          "text": [
            "<class 'frozenset'>\n"
          ]
        }
      ]
    },
    {
      "cell_type": "markdown",
      "source": [
        "# **13] Dictionary Datatype**\n",
        "\n",
        "1.   If we want to represent group fo values as **key - value pairs** then we should go for dict. data type.\n",
        "2.   **Duplicate keys** are **not** allowed but **values** can be **duplicated.** (If we are trying to insert an entry with duplicate key then old value will be replaced with new value.)\n",
        "3.   Dict. is **mutable** and the **order** **won't** be preserved.\n",
        "\n"
      ],
      "metadata": {
        "id": "UaDNHLjKC8eb"
      }
    },
    {
      "cell_type": "code",
      "source": [
        "d = {101:\"Manoj\",102:\"Ram\",103:\"Sam\",104:\"Amol\"}  \n",
        "d[101] = \"Rohit\"\n",
        "d"
      ],
      "metadata": {
        "colab": {
          "base_uri": "https://localhost:8080/"
        },
        "id": "lX5_AcAUE6rg",
        "outputId": "2aafe9fc-8d8e-4480-f635-e40a3592b5d2"
      },
      "execution_count": null,
      "outputs": [
        {
          "output_type": "execute_result",
          "data": {
            "text/plain": [
              "{101: 'Rohit', 102: 'Ram', 103: 'Sam', 104: 'Amol'}"
            ]
          },
          "metadata": {},
          "execution_count": 19
        }
      ]
    },
    {
      "cell_type": "code",
      "source": [
        "d = {}             # We can create empty dictionary.\n",
        "d['a'] = \"apple\"   # We can add key-value pairs.\n",
        "d['b'] = \"banana\"  # We can add key-value pairs.\n",
        "print(d)"
      ],
      "metadata": {
        "colab": {
          "base_uri": "https://localhost:8080/"
        },
        "id": "E5841D5iGEkI",
        "outputId": "bd3374af-4012-4dff-ed55-f51d3cc3cf82"
      },
      "execution_count": null,
      "outputs": [
        {
          "output_type": "stream",
          "name": "stdout",
          "text": [
            "{'a': 'apple', 'b': 'banana'}\n"
          ]
        }
      ]
    },
    {
      "cell_type": "markdown",
      "source": [
        "# **14] None Datatype**\n",
        "\n",
        "No value associated"
      ],
      "metadata": {
        "id": "Wpc2LnAtIDHY"
      }
    },
    {
      "cell_type": "code",
      "source": [
        "a = None\n",
        "print(a)\n",
        "print(type(a))"
      ],
      "metadata": {
        "colab": {
          "base_uri": "https://localhost:8080/"
        },
        "id": "FFXXjQLuIr2X",
        "outputId": "c21de4e8-3109-434c-ce25-be5e5194a866"
      },
      "execution_count": null,
      "outputs": [
        {
          "output_type": "stream",
          "name": "stdout",
          "text": [
            "None\n",
            "<class 'NoneType'>\n"
          ]
        }
      ]
    },
    {
      "cell_type": "markdown",
      "source": [
        "# **OPERATORS**\n",
        "\n",
        "1.   Arithmatic Operator\n",
        "2.   Relational Operator\n",
        "3.   Logical Operator\n",
        "4.   Bitwise Operator\n",
        "5.   Assignment Operator\n",
        "6.   Special Operator\n",
        "\n",
        "\n",
        "**1.   Arithmatic Operator**\n",
        "\n",
        "*   Addition (+)\n",
        "*   Subtraction (-)\n",
        "*   Multiplication (*)\n",
        "*   Division (/)\n",
        "*   Modulo (%)\n",
        "*   Floor division operaor (//)\n",
        "*   Exponent or power (**)\n",
        "\n",
        "\n",
        "\n"
      ],
      "metadata": {
        "id": "6EbXwXrHJtbH"
      }
    },
    {
      "cell_type": "code",
      "source": [
        "a = 15\n",
        "b = 2\n",
        "print('a+b =',a+b)\n",
        "print('a-b =',a-b)\n",
        "print('a*b =',a*b)\n",
        "print('a/b =',a/b)\n",
        "print('a%b =',a%b)      # Modulo = Remainder\n",
        "print('a//b =',a//b)    # Floor = Divisor\n",
        "print('a**b =',a**b)    # Exponent = 15^2 =225"
      ],
      "metadata": {
        "colab": {
          "base_uri": "https://localhost:8080/"
        },
        "id": "6gJkkPuMLhNn",
        "outputId": "9f499bcf-4a4b-4c14-a5d1-b7e7a320f1a3"
      },
      "execution_count": null,
      "outputs": [
        {
          "output_type": "stream",
          "name": "stdout",
          "text": [
            "a+b = 17\n",
            "a-b = 13\n",
            "a*b = 30\n",
            "a/b = 7.5\n",
            "a%b = 1\n",
            "a//b = 7\n",
            "a**b = 225\n"
          ]
        }
      ]
    },
    {
      "cell_type": "markdown",
      "source": [
        "**2. Relational Operators** - <,>,<=,>="
      ],
      "metadata": {
        "id": "4f2MHVNmNbYv"
      }
    },
    {
      "cell_type": "code",
      "source": [
        "a = 10\n",
        "b = 20\n",
        "print(\"a<b=\",a<b)\n",
        "print(\"a>b=\",a>b)\n",
        "print(\"a<=b=\",a<=b)\n",
        "print(\"a>=b=\",a>=b)"
      ],
      "metadata": {
        "colab": {
          "base_uri": "https://localhost:8080/"
        },
        "id": "r0uvlyflNx1n",
        "outputId": "338ab186-52d3-4d4a-b489-439fd622ac04"
      },
      "execution_count": null,
      "outputs": [
        {
          "output_type": "stream",
          "name": "stdout",
          "text": [
            "a<b= True\n",
            "a>b= False\n",
            "a<=b= True\n",
            "a>=b= False\n"
          ]
        }
      ]
    },
    {
      "cell_type": "markdown",
      "source": [
        "**3. Equality Operator** - ==,!="
      ],
      "metadata": {
        "id": "ezmv47WCO-bK"
      }
    },
    {
      "cell_type": "code",
      "source": [
        "a =10\n",
        "b =20\n",
        "print(a==b)\n",
        "print(a ==10)\n",
        "print(True == True == True)\n",
        "print(a!=b)"
      ],
      "metadata": {
        "colab": {
          "base_uri": "https://localhost:8080/"
        },
        "id": "ILYHIWlAPRyu",
        "outputId": "906b729e-b69b-4024-c645-2b25ab89ad76"
      },
      "execution_count": null,
      "outputs": [
        {
          "output_type": "stream",
          "name": "stdout",
          "text": [
            "False\n",
            "True\n",
            "True\n",
            "True\n"
          ]
        }
      ]
    },
    {
      "cell_type": "markdown",
      "source": [
        "**4. Logical Operators** : and,or,not\n",
        "\n",
        "*   and - Both argument is true then only result is true.\n",
        "*   or - If only one argument is true then only result is true.\n",
        "*   not - Complementary\n",
        "\n"
      ],
      "metadata": {
        "id": "Jxy_9SW3QoYZ"
      }
    },
    {
      "cell_type": "code",
      "source": [
        "a = 10 and 20    #If x evaluates to false return x otherwise return y (x and y)\n",
        "print(a)         #(True and True)\n",
        "b = 0 and 10     # (False and True)\n",
        "print(b)"
      ],
      "metadata": {
        "colab": {
          "base_uri": "https://localhost:8080/"
        },
        "id": "Fk_HnERCR4q2",
        "outputId": "d9fd0351-961f-41da-956b-35824b921eea"
      },
      "execution_count": null,
      "outputs": [
        {
          "output_type": "stream",
          "name": "stdout",
          "text": [
            "20\n",
            "0\n"
          ]
        }
      ]
    },
    {
      "cell_type": "code",
      "source": [
        "a = 20 or 32      #If x evaluates true then result is x otherwise result is y (x or y)\n",
        "print(a)          #(True or True)\n",
        "b = 0 or 25       #(False or True)\n",
        "print(b)"
      ],
      "metadata": {
        "colab": {
          "base_uri": "https://localhost:8080/"
        },
        "id": "W0JkmTCmTQG4",
        "outputId": "ffe3a13f-e731-4099-c55d-890052078ea0"
      },
      "execution_count": null,
      "outputs": [
        {
          "output_type": "stream",
          "name": "stdout",
          "text": [
            "20\n",
            "25\n"
          ]
        }
      ]
    },
    {
      "cell_type": "code",
      "source": [
        "a = 20            #If x evalutes true then result is false\n",
        "print(not a)\n",
        "b = 0\n",
        "print(not b)"
      ],
      "metadata": {
        "colab": {
          "base_uri": "https://localhost:8080/"
        },
        "id": "vphfsZN7S-6R",
        "outputId": "b65ba1eb-6e99-4ab2-d2e8-a05dbb9c7b6f"
      },
      "execution_count": null,
      "outputs": [
        {
          "output_type": "stream",
          "name": "stdout",
          "text": [
            "False\n",
            "True\n"
          ]
        }
      ]
    },
    {
      "cell_type": "markdown",
      "source": [
        "**5. Bitwise and Shift Operator**\n",
        "\n",
        "*   Applicable to integer and boolaen datatype.\n",
        "*   Error if applicable to other datatype.\n",
        "*   &,|,^,~,<<,>>\n",
        "*   print(4 & 5)  valid\n",
        "*   print(2.5 | 1.1)  Error\n",
        "*   print(True | False)  Valid\n",
        "*   & => If both bits are 1 then only result is 1 otherwise 0.\n",
        "*   | => If atleast one bits is 1 then result is 1 otherwise 0.\n",
        "*   ^ => If bits are different then result is 1 otherwise is 0.\n",
        "*   ~ => Bitwise Co,plelentary Operator (XOR)\n",
        "*   << => Bitwise Left Shift\n",
        "*   >> => Bitwise Right Shift \n",
        "\n"
      ],
      "metadata": {
        "id": "c4_NtK7jYvFp"
      }
    },
    {
      "cell_type": "code",
      "source": [
        "a = 4\n",
        "b = 5\n",
        "print(a & b)\n",
        "print(a|b)\n",
        "print(a^b)      #(5-4) = 1\n",
        "print(a<<2)     # (4  * 2^2) = 16\n",
        "print(a>>2)     # (4 / 2^2) = 1\n"
      ],
      "metadata": {
        "colab": {
          "base_uri": "https://localhost:8080/"
        },
        "id": "bycyvCx7bbwz",
        "outputId": "d22891c2-82ea-4606-aeff-66cfe4684e8d"
      },
      "execution_count": null,
      "outputs": [
        {
          "output_type": "stream",
          "name": "stdout",
          "text": [
            "4\n",
            "5\n",
            "1\n",
            "16\n",
            "1\n"
          ]
        }
      ]
    },
    {
      "cell_type": "markdown",
      "source": [
        "**7. Assignment Operator**\n",
        "\n",
        "*   Used to assign value to variable. e.g. (x=10)\n",
        "*   We can combine assignment operator with some other operator to form compound operator. (e.g. x+=10 --> x = x+10)\n",
        "*   List of all possible assignment operator\n",
        "1.+=    2.-=    3.*=    4./=    5.%=    6.//=    7.**=    8.&=    9.|=    10. ^=  11.>>=  12. <<=\n",
        "\n"
      ],
      "metadata": {
        "id": "6B2bp0YWhsUt"
      }
    },
    {
      "cell_type": "markdown",
      "source": [
        "**8. Ternary Operator or Conditional Operator**\n",
        "\n",
        "1.   Syntax  x = First value if condition else second value.\n",
        "2.   If condition is true the first value will be considered else second value will be considered.\n",
        "\n"
      ],
      "metadata": {
        "id": "0flDGvcukjFy"
      }
    },
    {
      "cell_type": "code",
      "source": [
        "a,b =10,20\n",
        "x =30 if a<b else 40\n",
        "print(x)"
      ],
      "metadata": {
        "colab": {
          "base_uri": "https://localhost:8080/"
        },
        "id": "NdWIGcHWlivN",
        "outputId": "30c419a1-8bcc-4a6e-fd10-a4c2d372776e"
      },
      "execution_count": null,
      "outputs": [
        {
          "output_type": "stream",
          "name": "stdout",
          "text": [
            "30\n"
          ]
        }
      ]
    },
    {
      "cell_type": "code",
      "source": [
        "# Program for minimum 3 numbers\n",
        "a = int(input(\"Enter First Number=\"))\n",
        "b = int(input(\"Enter Second Number=\"))\n",
        "c = int(input(\"Enter Third Number=\"))\n",
        "min =a if a<b and a<c else b if b<c else c\n",
        "print(\"Minimum value is:\",min)"
      ],
      "metadata": {
        "colab": {
          "base_uri": "https://localhost:8080/"
        },
        "id": "Q_a3Z9rBmMGy",
        "outputId": "8636b07e-9e5b-4672-cfb1-4a8ad8768590"
      },
      "execution_count": null,
      "outputs": [
        {
          "output_type": "stream",
          "name": "stdout",
          "text": [
            "Enter First Number=10\n",
            "Enter Second Number=20\n",
            "Enter Third Number=2\n",
            "Minimum value is: 2\n"
          ]
        }
      ]
    },
    {
      "cell_type": "code",
      "source": [
        "# Program for maximum of 3 numbers\n",
        "a = int(input(\"Enter First Number:\"))\n",
        "b = int(input(\"Enter Second Number:\"))\n",
        "c = int(input(\"Enter Third Number:\"))\n",
        "Max = a if a>b and a>c else b if b>c else c\n",
        "print(\"Maximum value is:\",Max)"
      ],
      "metadata": {
        "colab": {
          "base_uri": "https://localhost:8080/"
        },
        "id": "UquGItiwoEj-",
        "outputId": "eb9789aa-ee7e-40d9-a9e7-5df3f1317601"
      },
      "execution_count": null,
      "outputs": [
        {
          "output_type": "stream",
          "name": "stdout",
          "text": [
            "Enter First Number:23\n",
            "Enter Second Number:35\n",
            "Enter Third Number:49\n",
            "Maximum value is: 49\n"
          ]
        }
      ]
    },
    {
      "cell_type": "markdown",
      "source": [
        "**1. Identity Operator**\n",
        "\n",
        "*   We can use identity operator for address comparison.\n",
        "*   There are two identity operators. 1. is  2.  is not\n",
        "*   r1 is r2 returns True if both r1 and r2 are pointing to same object.\n",
        "*   r1 is not r2 returns True if both r1 and r2 are not pointing to same object.\n",
        "\n"
      ],
      "metadata": {
        "id": "fhRbB5OUpxuf"
      }
    },
    {
      "cell_type": "code",
      "source": [
        "a =10\n",
        "b =10\n",
        "print(a is b)   # True because a and b has same value 10\n",
        "print(id(a))\n",
        "print(id(b))"
      ],
      "metadata": {
        "colab": {
          "base_uri": "https://localhost:8080/"
        },
        "id": "hbWDzjo1rUzA",
        "outputId": "57b0da7f-2d9a-4b88-8300-90edac87d024"
      },
      "execution_count": null,
      "outputs": [
        {
          "output_type": "stream",
          "name": "stdout",
          "text": [
            "True\n",
            "11531200\n",
            "11531200\n"
          ]
        }
      ]
    },
    {
      "cell_type": "code",
      "source": [
        "a =10\n",
        "b =54\n",
        "print(a is b)       # False because a and b has different vale.\n",
        "print(a is not b)   # True because a and b has different values\n",
        "print(id(a))\n",
        "print(id(b))"
      ],
      "metadata": {
        "colab": {
          "base_uri": "https://localhost:8080/"
        },
        "id": "Qui1655pr5Pr",
        "outputId": "d3d6f553-4782-4c64-a355-3dbc31ab7d3e"
      },
      "execution_count": null,
      "outputs": [
        {
          "output_type": "stream",
          "name": "stdout",
          "text": [
            "False\n",
            "True\n",
            "11531200\n",
            "11532608\n"
          ]
        }
      ]
    },
    {
      "cell_type": "markdown",
      "source": [
        "**2. Membership Operators**\n",
        "\n",
        "1.   We can use membership operators to check whether the given object is present in the given collection.(It may be String,List,Set,Tuple or Dictionary) \n",
        "2.   In --> Returns True if the given object present in the specified collection.\n",
        "3.   not in --> Returns True if the given object not present in the specified collection.\n",
        "\n"
      ],
      "metadata": {
        "id": "tUArXV0gszje"
      }
    },
    {
      "cell_type": "code",
      "source": [
        "x = \"Hello learning python is very easy!!!\"\n",
        "print('h' in x)\n",
        "print('d' in x)\n",
        "print('d' not in x)\n",
        "print('ery' in x)\n",
        "print(\"Hello\" in x)"
      ],
      "metadata": {
        "colab": {
          "base_uri": "https://localhost:8080/"
        },
        "id": "rQqYPZ9CuZq0",
        "outputId": "79a35915-7ccb-4c01-c4e2-4cd9b362b45a"
      },
      "execution_count": null,
      "outputs": [
        {
          "output_type": "stream",
          "name": "stdout",
          "text": [
            "True\n",
            "False\n",
            "True\n",
            "True\n",
            "True\n"
          ]
        }
      ]
    },
    {
      "cell_type": "markdown",
      "source": [
        "# **Math Module**\n",
        "\n",
        "1.   A module is collection of functions,variables and classes \n",
        "2.   Math is module that contains several functions to perform mathematical operations.\n",
        "3.   If we want to use any module in Python we have to import module,import math.\n",
        "4.   Once we import a module then we can call any function of that module.\n",
        "5.   1) Import math  2)print(math.sqrt(16)  3) print(math.pi)"
      ],
      "metadata": {
        "id": "mD_wFTXBvn5j"
      }
    },
    {
      "cell_type": "code",
      "source": [
        "import math\n",
        "print(math.sqrt(16))\n",
        "print(math.pi)\n",
        "\n"
      ],
      "metadata": {
        "colab": {
          "base_uri": "https://localhost:8080/"
        },
        "id": "0WnZv32yx1OC",
        "outputId": "c2278737-ed26-4e3a-dead-1b8c3ac8d76f"
      },
      "execution_count": null,
      "outputs": [
        {
          "output_type": "stream",
          "name": "stdout",
          "text": [
            "4.0\n",
            "3.141592653589793\n"
          ]
        }
      ]
    },
    {
      "cell_type": "code",
      "source": [
        "print(math.ceil(10.55))\n",
        "print(math.floor(10.55))\n",
        "print(math.pow(10,3))\n",
        "print(math.factorial(5))\n",
        "print(math.trunc(10.55))\n",
        "print(math.gcd(10,20))\n",
        "print(math.sin(10))\n",
        "print(math.cos(10))\n",
        "print(math.tan(20))"
      ],
      "metadata": {
        "colab": {
          "base_uri": "https://localhost:8080/"
        },
        "id": "FU0xTkGczKnB",
        "outputId": "141fafdc-a3ad-44dd-bf4e-4bfe6031e5ff"
      },
      "execution_count": null,
      "outputs": [
        {
          "output_type": "stream",
          "name": "stdout",
          "text": [
            "11\n",
            "10\n",
            "1000.0\n",
            "120\n",
            "10\n",
            "10\n",
            "-0.5440211108893698\n",
            "-0.8390715290764524\n",
            "2.237160944224742\n"
          ]
        }
      ]
    },
    {
      "cell_type": "code",
      "source": [
        "# Write program for area of circle\n",
        "a = math.pi\n",
        "m = int(input(\"Enter number:\"))\n",
        "b = m ** 2\n",
        "c = a*b\n",
        "print(c)"
      ],
      "metadata": {
        "colab": {
          "base_uri": "https://localhost:8080/"
        },
        "id": "z65KFmQe0qOS",
        "outputId": "fe8277ff-3762-4a45-cf6b-1b83ae3137b8"
      },
      "execution_count": null,
      "outputs": [
        {
          "output_type": "stream",
          "name": "stdout",
          "text": [
            "Enter number:1\n",
            "3.141592653589793\n"
          ]
        }
      ]
    },
    {
      "cell_type": "code",
      "source": [
        "# eval() - This function take string and evaluate the result.\n",
        "x = eval(\"10+20+30\")\n",
        "print(x)"
      ],
      "metadata": {
        "colab": {
          "base_uri": "https://localhost:8080/"
        },
        "id": "a0fdupo8qM0Q",
        "outputId": "0f76a89a-6654-4c2c-cf6b-f6e5b55857e9"
      },
      "execution_count": null,
      "outputs": [
        {
          "output_type": "stream",
          "name": "stdout",
          "text": [
            "60\n"
          ]
        }
      ]
    },
    {
      "cell_type": "markdown",
      "source": [
        "**OUTPUT STATEMENTS** :\n",
        "We can use print() function to display output."
      ],
      "metadata": {
        "id": "33IkqPeXrFhK"
      }
    },
    {
      "cell_type": "code",
      "source": [
        "# We can use escape characters\n",
        "print(\"Hello \\n World\")"
      ],
      "metadata": {
        "colab": {
          "base_uri": "https://localhost:8080/"
        },
        "id": "kwasM1V4rmQ5",
        "outputId": "e56932f3-9d32-411c-9373-435d4aa9c585"
      },
      "execution_count": null,
      "outputs": [
        {
          "output_type": "stream",
          "name": "stdout",
          "text": [
            "Hello \n",
            " World\n"
          ]
        }
      ]
    },
    {
      "cell_type": "code",
      "source": [
        "# Print variable with number of arguments.\n",
        "a,b,c = 10,20,30\n",
        "print(\"The values are :\",a,b,c)"
      ],
      "metadata": {
        "colab": {
          "base_uri": "https://localhost:8080/"
        },
        "id": "3FwMFKr6rbbd",
        "outputId": "28d39688-ad6a-43bb-be83-66ee09281264"
      },
      "execution_count": null,
      "outputs": [
        {
          "output_type": "stream",
          "name": "stdout",
          "text": [
            "The values are : 10 20 30\n"
          ]
        }
      ]
    },
    {
      "cell_type": "code",
      "source": [
        "# By default output values are separated by space. aif we want we can specify separator by using \"(sep='  , ')\" attribute.\n",
        "a,b,c = 10,20,30\n",
        "print(\"The values are:\",a,b,c,sep=',')"
      ],
      "metadata": {
        "colab": {
          "base_uri": "https://localhost:8080/"
        },
        "id": "H7NLXIzCsXA9",
        "outputId": "2d733a2b-ed93-4ac2-9df7-9dd56cccc523"
      },
      "execution_count": null,
      "outputs": [
        {
          "output_type": "stream",
          "name": "stdout",
          "text": [
            "The values are:,10,20,30\n"
          ]
        }
      ]
    },
    {
      "cell_type": "code",
      "source": [
        "# If we want output in the same line with space by using (end = ' ') attribute.\n",
        "print(\"Happy\", end=' ')\n",
        "print(\"New\", end=' ')\n",
        "print(\"Year\", end=' ')\n",
        "print(\"2023\")"
      ],
      "metadata": {
        "colab": {
          "base_uri": "https://localhost:8080/"
        },
        "id": "u1S9jNKftPD7",
        "outputId": "44c2b637-499e-4a6d-8552-99f9d146d127"
      },
      "execution_count": null,
      "outputs": [
        {
          "output_type": "stream",
          "name": "stdout",
          "text": [
            "Happy New Year 2023\n"
          ]
        }
      ]
    },
    {
      "cell_type": "code",
      "source": [
        "a,b,c = 10,20,30\n",
        "print(\"a value is %i\" %a)                         # %i = integer value  %d = integer value\n",
        "print(\"b value is %d and c value is %d\" %(b,c))\n"
      ],
      "metadata": {
        "colab": {
          "base_uri": "https://localhost:8080/"
        },
        "id": "Zlj-YGj1vPp3",
        "outputId": "69d9d01b-4c98-41e0-ce82-9b4ce2c1845e"
      },
      "execution_count": null,
      "outputs": [
        {
          "output_type": "stream",
          "name": "stdout",
          "text": [
            "a value is 10\n",
            "b value is 20 and c value is 30\n"
          ]
        }
      ]
    },
    {
      "cell_type": "code",
      "source": [
        "s = \"student\"\n",
        "list1 = [10,20,30,40]\n",
        "print(\"Hello %s, The list of items are %s\"%(s,list1))   # %s = string value"
      ],
      "metadata": {
        "colab": {
          "base_uri": "https://localhost:8080/"
        },
        "id": "OOfITGSywUb7",
        "outputId": "7f021e34-f47c-48c1-b9e2-2aaa1dffd75e"
      },
      "execution_count": null,
      "outputs": [
        {
          "output_type": "stream",
          "name": "stdout",
          "text": [
            "Hello student, The list of items are [10, 20, 30, 40]\n"
          ]
        }
      ]
    },
    {
      "cell_type": "code",
      "source": [
        "# Write program in python to check if sequence is palindrome\n",
        "a = input(\"Enter Sequence: \" )\n",
        "b = a[::-1]\n",
        "if a == b:\n",
        "  print (\"palindrome\")\n",
        "else:\n",
        "  print(\"Not palindrome\")\n",
        "\n",
        "\n"
      ],
      "metadata": {
        "colab": {
          "base_uri": "https://localhost:8080/"
        },
        "id": "z5Vfbw1NxgRS",
        "outputId": "20762fc4-847b-41a2-d48a-1908be808a31"
      },
      "execution_count": null,
      "outputs": [
        {
          "output_type": "stream",
          "name": "stdout",
          "text": [
            "Enter Sequence: madam\n",
            "palindrome\n"
          ]
        }
      ]
    },
    {
      "cell_type": "markdown",
      "source": [
        "# **Flow Control** -->  Used to decision making\n",
        "\n",
        "Control Flow Statements 3 Types\n",
        "\n",
        "1.   Conditional Statements - 1.if  2.if-else  3.if-elif-else\n",
        "2.   Transfer statements - 1.break  2.continue 3.pass\n",
        "3.   Iterative statements - 1.for  2.while\n",
        "\n"
      ],
      "metadata": {
        "id": "uDXlBWY1kt9A"
      }
    },
    {
      "cell_type": "code",
      "source": [
        "name = input(\"Enter name: \")\n",
        "if name == \"Abhijeet\":\n",
        "  print(\"Hello %s\"%name,)"
      ],
      "metadata": {
        "colab": {
          "base_uri": "https://localhost:8080/"
        },
        "id": "cOT4X51Lnolq",
        "outputId": "3e58cab0-c4a0-4895-96f1-69280200a5ce"
      },
      "execution_count": null,
      "outputs": [
        {
          "output_type": "stream",
          "name": "stdout",
          "text": [
            "Enter name: Abhijeet\n",
            "Hello Abhijeet\n"
          ]
        }
      ]
    },
    {
      "cell_type": "code",
      "source": [
        "# Write a program to find biggest of given 2 numbers from command prompt.\n",
        "n1 = int(input(\"Enter First Number: \"))\n",
        "n2 = int(input(\"Enter Second number: \"))\n",
        "if n1>n2:\n",
        "  print(\"n1 is biggest number\")\n",
        "else:\n",
        "  print(\"n2 is biggest number\")"
      ],
      "metadata": {
        "colab": {
          "base_uri": "https://localhost:8080/"
        },
        "id": "MsIhtox-vFIk",
        "outputId": "3b77e295-5b5a-4c16-b15c-e8d439caf73b"
      },
      "execution_count": null,
      "outputs": [
        {
          "output_type": "stream",
          "name": "stdout",
          "text": [
            "Enter First Number: 25\n",
            "Enter Second number: 14\n",
            "n1 is biggest number\n"
          ]
        }
      ]
    },
    {
      "cell_type": "code",
      "source": [],
      "metadata": {
        "id": "5tqQl30-xIZe"
      },
      "execution_count": null,
      "outputs": []
    },
    {
      "cell_type": "code",
      "source": [
        "# Write program to check whether the given number is even or odd.\n",
        "a = int(input(\"enter number: \"))\n",
        "if a!=0 and a % 2 ==0:\n",
        "  print(\"a is even number\")\n",
        "else:\n",
        "   if (a % 2) != 0:\n",
        "     print(\"a is odd function\")\n",
        "   else:\n",
        "     print(\"Good morninig\")"
      ],
      "metadata": {
        "colab": {
          "base_uri": "https://localhost:8080/"
        },
        "id": "n0EDBBNwxI1q",
        "outputId": "fe259095-56a8-4d2a-e296-53eeec66ad90"
      },
      "execution_count": null,
      "outputs": [
        {
          "output_type": "stream",
          "name": "stdout",
          "text": [
            "enter number: 31\n",
            "a is odd function\n"
          ]
        }
      ]
    },
    {
      "cell_type": "markdown",
      "source": [
        "**2] Iterative Statements** --> We want ro excute a group of statements multiple times then we should go for iterative statements.\n",
        "\n",
        " Python supports two types of iterative statements \n",
        "\n",
        "**for loop**--> If we want to execute some action for every element in some sequence (it may be string or collection) then we should go for loop.\n",
        "1. **Syntax -->**  for x in sequence:\n",
        "2.  **Body -->** Where sequence can be string or any collection.Body will be executed for every element present in sequence.\n",
        "\n"
      ],
      "metadata": {
        "id": "NR8yyUdS4RIY"
      }
    },
    {
      "cell_type": "code",
      "source": [
        "# To print characters present in the given string.\n",
        "s = \"Ramcharan\"\n",
        "for x in s: \n",
        " print(x)"
      ],
      "metadata": {
        "colab": {
          "base_uri": "https://localhost:8080/"
        },
        "id": "UWtjLIiw7pd4",
        "outputId": "8ed24d06-62c4-43eb-dfb6-f34504e023d7"
      },
      "execution_count": null,
      "outputs": [
        {
          "output_type": "stream",
          "name": "stdout",
          "text": [
            "R\n",
            "a\n",
            "m\n",
            "c\n",
            "h\n",
            "a\n",
            "r\n",
            "a\n",
            "n\n"
          ]
        }
      ]
    },
    {
      "cell_type": "code",
      "source": [
        "#To print Hello 10 times\n",
        "a = range(10)\n",
        "b = list(a)\n",
        "print(b)\n",
        "for x in a:\n",
        "  print(\"Hello\")"
      ],
      "metadata": {
        "colab": {
          "base_uri": "https://localhost:8080/"
        },
        "id": "kskqnR-0BVGv",
        "outputId": "0a4c0849-f81b-4133-9226-2b9ef7206331"
      },
      "execution_count": null,
      "outputs": [
        {
          "output_type": "stream",
          "name": "stdout",
          "text": [
            "[0, 1, 2, 3, 4, 5, 6, 7, 8, 9]\n",
            "Hello\n",
            "Hello\n",
            "Hello\n",
            "Hello\n",
            "Hello\n",
            "Hello\n",
            "Hello\n",
            "Hello\n",
            "Hello\n",
            "Hello\n"
          ]
        }
      ]
    },
    {
      "cell_type": "code",
      "source": [
        "# To print odd number from 20 to 50\n",
        "a = range(20,51)\n",
        "for x in a:\n",
        " if (x%2!=0):\n",
        "   print(x)"
      ],
      "metadata": {
        "colab": {
          "base_uri": "https://localhost:8080/"
        },
        "id": "dIo_vz87Co0x",
        "outputId": "9755625d-d486-467d-f18a-69d096f9e152"
      },
      "execution_count": null,
      "outputs": [
        {
          "output_type": "stream",
          "name": "stdout",
          "text": [
            "21\n",
            "23\n",
            "25\n",
            "27\n",
            "29\n",
            "31\n",
            "33\n",
            "35\n",
            "37\n",
            "39\n",
            "41\n",
            "43\n",
            "45\n",
            "47\n",
            "49\n"
          ]
        }
      ]
    },
    {
      "cell_type": "code",
      "source": [
        "# To display numbers from 10 to 1 in descending order.\n",
        "a = range(1,10)\n",
        "for x in a:\n",
        "  b= 10-x\n",
        "  print(b)"
      ],
      "metadata": {
        "colab": {
          "base_uri": "https://localhost:8080/"
        },
        "id": "cQIeFH2YIQUR",
        "outputId": "9b1a0dcb-bbb0-4814-b606-c1c671330af1"
      },
      "execution_count": null,
      "outputs": [
        {
          "output_type": "stream",
          "name": "stdout",
          "text": [
            "9\n",
            "8\n",
            "7\n",
            "6\n",
            "5\n",
            "4\n",
            "3\n",
            "2\n",
            "1\n"
          ]
        }
      ]
    },
    {
      "cell_type": "code",
      "source": [
        "# To print sum of numbers present inside list\n",
        "list1 = eval(input(\"Enterlist: \"))\n",
        "sum = 0\n",
        "for x in list1:\n",
        "  sum = sum + x\n",
        "  print(\"The sum=\",sum)"
      ],
      "metadata": {
        "colab": {
          "base_uri": "https://localhost:8080/"
        },
        "id": "aTUxq4aSJxbp",
        "outputId": "4932f158-336d-466d-ea19-3f653377fe1a"
      },
      "execution_count": null,
      "outputs": [
        {
          "output_type": "stream",
          "name": "stdout",
          "text": [
            "Enterlist: 1,2,3,4,5,6\n",
            "The sum= 1\n",
            "The sum= 3\n",
            "The sum= 6\n",
            "The sum= 10\n",
            "The sum= 15\n",
            "The sum= 21\n"
          ]
        }
      ]
    },
    {
      "cell_type": "markdown",
      "source": [
        "**while loop** --> if we want to execute a group of statements iteratively until some condition become false, then we should go for while loop."
      ],
      "metadata": {
        "id": "C4VY4NkyRebF"
      }
    },
    {
      "cell_type": "code",
      "source": [
        "# To print numbers from 0 to 10 by using while loop.\n",
        "x =1\n",
        "while x<=10:\n",
        "  print(x)\n",
        "  x = x+1"
      ],
      "metadata": {
        "colab": {
          "base_uri": "https://localhost:8080/"
        },
        "id": "9NM5AsQLSBPf",
        "outputId": "140c8e3f-eb02-43c7-ddef-73dc311bfa35"
      },
      "execution_count": null,
      "outputs": [
        {
          "output_type": "stream",
          "name": "stdout",
          "text": [
            "1\n",
            "2\n",
            "3\n",
            "4\n",
            "5\n",
            "6\n",
            "7\n",
            "8\n",
            "9\n",
            "10\n"
          ]
        }
      ]
    },
    {
      "cell_type": "code",
      "source": [
        "# To display the sum of first n numbers\n",
        "n = int(input(\"Enter number: \"))\n",
        "sum =0\n",
        "i=1\n",
        "while i<=n:\n",
        " sum= sum+i\n",
        " i = i+1\n",
        "print(\"The sum of first\",n,\"numbers is:\",sum)"
      ],
      "metadata": {
        "colab": {
          "base_uri": "https://localhost:8080/"
        },
        "id": "sUrxCZjwSvyI",
        "outputId": "fce278ce-c38f-4130-8427-a7ffcedfc261"
      },
      "execution_count": null,
      "outputs": [
        {
          "output_type": "stream",
          "name": "stdout",
          "text": [
            "Enter number: 0\n",
            "The sum of first 0 numbers is: 0\n"
          ]
        }
      ]
    },
    {
      "cell_type": "markdown",
      "source": [
        "**Nested loop -->** We can take loop inside another loop, which are also known as nested loop."
      ],
      "metadata": {
        "id": "B3s_lr08W16x"
      }
    },
    {
      "cell_type": "code",
      "source": [
        "for i in range(4):\n",
        "  for j in range (4):\n",
        "    print(\"i=\",i,\"j=\",j)\n",
        "  print()"
      ],
      "metadata": {
        "colab": {
          "base_uri": "https://localhost:8080/"
        },
        "id": "bKfNp6iyXW66",
        "outputId": "5d57d8cd-4651-4a3d-b019-e593a3963b86"
      },
      "execution_count": null,
      "outputs": [
        {
          "output_type": "stream",
          "name": "stdout",
          "text": [
            "i= 0 j= 0\n",
            "i= 0 j= 1\n",
            "i= 0 j= 2\n",
            "i= 0 j= 3\n",
            "\n",
            "i= 1 j= 0\n",
            "i= 1 j= 1\n",
            "i= 1 j= 2\n",
            "i= 1 j= 3\n",
            "\n",
            "i= 2 j= 0\n",
            "i= 2 j= 1\n",
            "i= 2 j= 2\n",
            "i= 2 j= 3\n",
            "\n",
            "i= 3 j= 0\n",
            "i= 3 j= 1\n",
            "i= 3 j= 2\n",
            "i= 3 j= 3\n",
            "\n"
          ]
        }
      ]
    },
    {
      "cell_type": "code",
      "source": [
        "# write the program to display *'s in right angled triangle form.\n",
        "a = int(input(\"Enter rows: \"))\n",
        "for i in range(1,a+1):\n",
        "  for j in range(1,i+1):\n",
        "    print('*',end=' ')\n",
        "  print()"
      ],
      "metadata": {
        "id": "wjVtzO2QYMW3",
        "colab": {
          "base_uri": "https://localhost:8080/"
        },
        "outputId": "85ecc8dd-99c0-46ed-c61e-fdd9ae948285"
      },
      "execution_count": null,
      "outputs": [
        {
          "output_type": "stream",
          "name": "stdout",
          "text": [
            "Enter rows: 3\n",
            "* \n",
            "* * \n",
            "* * * \n"
          ]
        }
      ]
    },
    {
      "cell_type": "markdown",
      "source": [
        "**3] Transfer statements**\n",
        "\n",
        "**1.   Break:** --> We can use break statement inside loops to break loop execution based on some condition.\n",
        "\n",
        "\n",
        "\n"
      ],
      "metadata": {
        "id": "B5G-VFxm3iI5"
      }
    },
    {
      "cell_type": "code",
      "source": [
        "for i in range (10):\n",
        "  if i==7:\n",
        "    print(\"Processing is enough ..plz break\")\n",
        "    break\n",
        "  print(i)"
      ],
      "metadata": {
        "colab": {
          "base_uri": "https://localhost:8080/"
        },
        "id": "Tu9T2XLe4fxY",
        "outputId": "282af37c-1ece-48f9-f281-87a1fb9365de"
      },
      "execution_count": null,
      "outputs": [
        {
          "output_type": "stream",
          "name": "stdout",
          "text": [
            "0\n",
            "1\n",
            "2\n",
            "3\n",
            "4\n",
            "5\n",
            "6\n",
            "Processing is enough ..plz break\n",
            "7\n",
            "8\n",
            "9\n"
          ]
        }
      ]
    },
    {
      "cell_type": "code",
      "source": [
        "cart = [10,20,600,60,70]\n",
        "for item in cart:\n",
        "  if item>500:\n",
        "    print(\"To place this order insurance is required\")\n",
        "    break\n",
        "  print(item)"
      ],
      "metadata": {
        "colab": {
          "base_uri": "https://localhost:8080/"
        },
        "id": "zKXMlYAN5O-q",
        "outputId": "664bce07-c9a3-4c93-8b86-6b1678d1b29c"
      },
      "execution_count": null,
      "outputs": [
        {
          "output_type": "stream",
          "name": "stdout",
          "text": [
            "10\n",
            "20\n",
            "To place this order insurance is required\n",
            "600\n",
            "60\n",
            "70\n"
          ]
        }
      ]
    },
    {
      "cell_type": "markdown",
      "source": [
        "**2] continue**--> We can use continue statement to skip current iteration and continue next iteration."
      ],
      "metadata": {
        "id": "YbXVrI_K6HT7"
      }
    },
    {
      "cell_type": "code",
      "source": [
        "# To print odd numbers in the range 0 to 9\n",
        "a = range(10)\n",
        "for x in a:\n",
        "  if (x % 2)==0:\n",
        "    continue\n",
        "  print(x)"
      ],
      "metadata": {
        "colab": {
          "base_uri": "https://localhost:8080/"
        },
        "id": "fkNHnaO67Hxd",
        "outputId": "c5388fe4-b023-44de-c2e6-25fed7d3c6e1"
      },
      "execution_count": null,
      "outputs": [
        {
          "output_type": "stream",
          "name": "stdout",
          "text": [
            "1\n",
            "3\n",
            "5\n",
            "7\n",
            "9\n"
          ]
        }
      ]
    },
    {
      "cell_type": "code",
      "source": [
        "cart = [10,20,500,700,50,60]\n",
        "for item in cart:\n",
        "  if item>=500:\n",
        "    print(\"We cannot process this time:\",item)\n",
        "    continue\n",
        "  print(item)"
      ],
      "metadata": {
        "colab": {
          "base_uri": "https://localhost:8080/"
        },
        "id": "LOWEsAhH83mW",
        "outputId": "40ece9ac-7ab7-4a0f-eef2-8d0eb5275787"
      },
      "execution_count": null,
      "outputs": [
        {
          "output_type": "stream",
          "name": "stdout",
          "text": [
            "10\n",
            "20\n",
            "We cannot process this time: 500\n",
            "We cannot process this time: 700\n",
            "50\n",
            "60\n"
          ]
        }
      ]
    },
    {
      "cell_type": "code",
      "source": [
        "numbers = [10,20,0,5,0,30]\n",
        "for n in numbers:\n",
        "  if n==0:\n",
        "    print(\"Hey how we can divide with zero...just skipping\")\n",
        "    continue\n",
        "  print(\"100/{}={}\".format(n,100/n))"
      ],
      "metadata": {
        "colab": {
          "base_uri": "https://localhost:8080/"
        },
        "id": "2Mmm7JAI98_W",
        "outputId": "f1af9dfc-7be7-4cd4-e03d-97d60cfb7ea3"
      },
      "execution_count": null,
      "outputs": [
        {
          "output_type": "stream",
          "name": "stdout",
          "text": [
            "100/10=10.0\n",
            "100/20=5.0\n",
            "Hey how we can divide with zero...just skipping\n",
            "100/5=20.0\n",
            "Hey how we can divide with zero...just skipping\n",
            "100/30=3.3333333333333335\n"
          ]
        }
      ]
    },
    {
      "cell_type": "markdown",
      "source": [
        "# Loops with else blocks\n",
        "\n",
        "*  Inside loop execution, if break statement not executed,then only else part will be executed.\n",
        "*  'else' means loop without break.\n",
        "\n"
      ],
      "metadata": {
        "id": "ItMzAc70_WeH"
      }
    },
    {
      "cell_type": "code",
      "source": [
        "cart1 = [10,20,30,40,50]\n",
        "for items in cart1:\n",
        "  if items >=500:\n",
        "    print(\"We can not process this order\")\n",
        "    break\n",
        "  print(items)\n",
        "else:\n",
        "  print(\"Congrats ... all items processd successfully\")"
      ],
      "metadata": {
        "colab": {
          "base_uri": "https://localhost:8080/"
        },
        "id": "xKXHk9cqAUL-",
        "outputId": "0bc9846a-f6b2-448e-bd84-a1b30413214f"
      },
      "execution_count": null,
      "outputs": [
        {
          "output_type": "stream",
          "name": "stdout",
          "text": [
            "10\n",
            "20\n",
            "30\n",
            "40\n",
            "50\n",
            "Congrats ... all items processd successfully\n"
          ]
        }
      ]
    },
    {
      "cell_type": "markdown",
      "source": [
        "**3] Pass statement:->**\n",
        "\n",
        "1.   Pass is keyword in python.\n",
        "2.   In your programming  syntactically if block is required which won't do anything then we can define empty block with pass keyword.\n",
        "\n",
        "*   It is an empty statement.\n",
        "*   It is a null statement.\n",
        "*   It will no do anything.\n",
        "*   Sometime in the parent class we have to declare a function with empty body and child class responsible to provide proper information.Such type of empty body we can define by using pass keyword.\n",
        "\n",
        "\n",
        "\n"
      ],
      "metadata": {
        "id": "UXoZFpSuC7ni"
      }
    },
    {
      "cell_type": "code",
      "source": [
        "for i in range(100):\n",
        "  if i%9==0:\n",
        "    print(i,end=' ')\n",
        "  else:\n",
        "    pass"
      ],
      "metadata": {
        "colab": {
          "base_uri": "https://localhost:8080/"
        },
        "id": "DvDU3EV3FCPQ",
        "outputId": "c0f78e67-2feb-4ff1-a20b-71c18b40527e"
      },
      "execution_count": null,
      "outputs": [
        {
          "output_type": "stream",
          "name": "stdout",
          "text": [
            "0 9 18 27 36 45 54 63 72 81 90 99 "
          ]
        }
      ]
    },
    {
      "cell_type": "markdown",
      "source": [
        "# **String**\n",
        "\n",
        "1.  Any sequence of character within single or double quotes.\n",
        "\n"
      ],
      "metadata": {
        "id": "RowDDtP9M4iw"
      }
    },
    {
      "cell_type": "code",
      "source": [
        "# Access of characters by using index\n",
        "a=\"DATASCIENCE\"\n",
        "a[3]"
      ],
      "metadata": {
        "colab": {
          "base_uri": "https://localhost:8080/",
          "height": 35
        },
        "id": "NZYCwN3SNjqi",
        "outputId": "f8401e73-e516-409c-a5cf-032837d36a82"
      },
      "execution_count": null,
      "outputs": [
        {
          "output_type": "execute_result",
          "data": {
            "text/plain": [
              "'A'"
            ],
            "application/vnd.google.colaboratory.intrinsic+json": {
              "type": "string"
            }
          },
          "metadata": {},
          "execution_count": 1
        }
      ]
    },
    {
      "cell_type": "code",
      "source": [
        "# Access of letter by using slice operator\n",
        "a = \"DATASCIENCE\"\n",
        "print(a[3:6])           # vaiable[first index:lastindex:step]\n",
        "print(a[:])\n",
        "print(a[2:4:3])\n",
        "print(a[::-1])\n",
        "print(len(a))           # len(variable) is inbuilt function"
      ],
      "metadata": {
        "colab": {
          "base_uri": "https://localhost:8080/"
        },
        "id": "JoUXIXUJPlSb",
        "outputId": "b0ca105b-63ca-4c9f-e2c6-0592cd8d585e"
      },
      "execution_count": null,
      "outputs": [
        {
          "output_type": "stream",
          "name": "stdout",
          "text": [
            "ASC\n",
            "DATASCIENCE\n",
            "T\n",
            "ECNEICSATAD\n",
            "11\n"
          ]
        }
      ]
    },
    {
      "cell_type": "code",
      "source": [
        "# Write a program to access each characters of string in forward and backward directionby using while loop.\n",
        "s = \"My name is abhijeet !!!\"\n",
        "n=len(s)\n",
        "i=0\n",
        "print(\"Forward Direction\")\n",
        "while i<n:\n",
        "  print(s[i],end=' ')\n",
        "  i=i+1\n",
        "print()\n",
        "print(\"Backward Direction\")\n",
        "i =-1\n",
        "while i>= -n:\n",
        "  print(s[i],end=' ')\n",
        "  i=i-1"
      ],
      "metadata": {
        "colab": {
          "base_uri": "https://localhost:8080/"
        },
        "id": "0GCiH_J4RKPs",
        "outputId": "0df98c3f-1614-4ed0-afd1-639b11ef4b0e"
      },
      "execution_count": null,
      "outputs": [
        {
          "output_type": "stream",
          "name": "stdout",
          "text": [
            "Forward Direction\n",
            "M y   n a m e   i s   a b h i j e e t   ! ! ! \n",
            "Backward Direction\n",
            "! ! !   t e e j i h b a   s i   e m a n   y M "
          ]
        }
      ]
    },
    {
      "cell_type": "markdown",
      "source": [
        "**1]. find()** ---> Returns idex of first occurence of the given substring.If it is not available then we will get -1"
      ],
      "metadata": {
        "id": "eAJXJsX86a2m"
      }
    },
    {
      "cell_type": "code",
      "source": [
        "s =\"data\"\n",
        "print(s.find(\"data\"))\n",
        "# Syntax:  s.find(substring,begin,end)\n",
        "print(s.find(\"a\",1,4))\n",
        "print(s.find('a',2,4))"
      ],
      "metadata": {
        "colab": {
          "base_uri": "https://localhost:8080/"
        },
        "id": "6PyZFJba652I",
        "outputId": "93019767-c069-49d9-e364-06f5f1b4095b"
      },
      "execution_count": null,
      "outputs": [
        {
          "output_type": "stream",
          "name": "stdout",
          "text": [
            "0\n",
            "1\n",
            "3\n"
          ]
        }
      ]
    },
    {
      "cell_type": "markdown",
      "source": [
        "**2]. index()**---->\n",
        "index() method is exactly same as find() method except that if the specified substring is not available then we get value error.\n",
        "\n",
        "*   We get error if substring is not available.\n",
        "*   s.index('m') ---> output is value error\n",
        "\n"
      ],
      "metadata": {
        "id": "P0X-5v4_5LvA"
      }
    },
    {
      "cell_type": "code",
      "source": [
        "s=\"my name is abhijeet\"\n",
        "print(s.index('m'))"
      ],
      "metadata": {
        "colab": {
          "base_uri": "https://localhost:8080/"
        },
        "id": "MDFM1Fx48M5m",
        "outputId": "499538fb-e8d2-4236-d0a4-567de25ad13d"
      },
      "execution_count": null,
      "outputs": [
        {
          "output_type": "stream",
          "name": "stdout",
          "text": [
            "0\n"
          ]
        }
      ]
    },
    {
      "cell_type": "code",
      "source": [
        "#program to display all position of substring in a given main string\n",
        "\n",
        "s = input(\"Enter string: \")\n",
        "subs = input(\"Enter substring: \")\n",
        "pos = -1\n",
        "n = len(s)\n",
        "while True:\n",
        "  pos =s.find(subs,pos+1,n)\n",
        "  if pos == -1:\n",
        "    break\n",
        "  print(\"Found at position\",pos)\n",
        "  flag = True\n",
        "if flag == False:\n",
        "    print(\"Not Found\")"
      ],
      "metadata": {
        "colab": {
          "base_uri": "https://localhost:8080/"
        },
        "id": "o3pDWN35_X6x",
        "outputId": "27f8e976-ebd7-4b93-fc8e-808077b16071"
      },
      "execution_count": null,
      "outputs": [
        {
          "output_type": "stream",
          "name": "stdout",
          "text": [
            "Enter string: asfsgsssagfsassa\n",
            "Enter substring: s\n",
            "Found at position 1\n",
            "Found at position 3\n",
            "Found at position 5\n",
            "Found at position 6\n",
            "Found at position 7\n",
            "Found at position 11\n",
            "Found at position 13\n",
            "Found at position 14\n"
          ]
        }
      ]
    },
    {
      "cell_type": "markdown",
      "source": [
        "**Count substring inthe given string**\n",
        "\n",
        "1.   We can find the number of occurences of substring present in the given string by using **count( )** method.\n",
        "2.  **s.count(substring)** => It will search through out string.\n",
        "3.   **s.count(substring,begin index,end index)** => It will search from begin index to end-1 index.\n",
        "\n"
      ],
      "metadata": {
        "id": "xum7ebHAU13p"
      }
    },
    {
      "cell_type": "code",
      "source": [
        "s = \"abcdabcabcadda\"\n",
        "print(s.count('a'))\n",
        "print(s.count('a',4,8))"
      ],
      "metadata": {
        "colab": {
          "base_uri": "https://localhost:8080/"
        },
        "id": "JAGgo8HsWbv6",
        "outputId": "c243af0b-ddde-4e81-e6e5-3897d437baa6"
      },
      "execution_count": null,
      "outputs": [
        {
          "output_type": "stream",
          "name": "stdout",
          "text": [
            "5\n",
            "2\n"
          ]
        }
      ]
    },
    {
      "cell_type": "markdown",
      "source": [
        "**Replacing string with another string**\n",
        "\n",
        "1.   **s.replace(old string,new string)**\n",
        "2.   Inside s, every occurence of old string will be replaced with new string.\n",
        "\n"
      ],
      "metadata": {
        "id": "ZjjNkRmmXFMH"
      }
    },
    {
      "cell_type": "code",
      "source": [
        "s = \"Learning python is very difficult\"\n",
        "s1 = s.replace('difficult','easy')\n",
        "print(s1)"
      ],
      "metadata": {
        "colab": {
          "base_uri": "https://localhost:8080/"
        },
        "id": "u2RxF5xWXviq",
        "outputId": "e9984920-3728-4ed5-ff5d-7ba491688596"
      },
      "execution_count": null,
      "outputs": [
        {
          "output_type": "stream",
          "name": "stdout",
          "text": [
            "Learning python is very easy\n"
          ]
        }
      ]
    },
    {
      "cell_type": "markdown",
      "source": [
        "**Splitting of strings** ==>\n",
        "\n",
        "1.   We can split the given string according to specified separtor by using split() method.\n",
        "2.   **Syntax : s.split(separator)**\n",
        "\n"
      ],
      "metadata": {
        "id": "hOwaAu8vYXy1"
      }
    },
    {
      "cell_type": "code",
      "source": [
        "s = '02-01-2023'\n",
        "l = s.split('-')\n",
        "for x in l:\n",
        "  print(x)"
      ],
      "metadata": {
        "colab": {
          "base_uri": "https://localhost:8080/"
        },
        "id": "cBGUinmjZHiX",
        "outputId": "b68c92ea-20ab-4a73-b6c6-6f739457376e"
      },
      "execution_count": null,
      "outputs": [
        {
          "output_type": "stream",
          "name": "stdout",
          "text": [
            "02\n",
            "01\n",
            "2023\n"
          ]
        }
      ]
    },
    {
      "cell_type": "markdown",
      "source": [
        "**Joining of strings** ==> \n",
        "\n",
        "1.   **syntax: separator.join.(group of strings)**\n",
        "\n"
      ],
      "metadata": {
        "id": "GGtBRKiIaHS6"
      }
    },
    {
      "cell_type": "code",
      "source": [
        "list1 = [\"Data\",\"Science\",\"AI\"]\n",
        "print('-'.join(list1))"
      ],
      "metadata": {
        "colab": {
          "base_uri": "https://localhost:8080/"
        },
        "id": "DuUrEw6Xa6Az",
        "outputId": "ae704490-e74e-46f2-d4bf-2e6180fe1497"
      },
      "execution_count": null,
      "outputs": [
        {
          "output_type": "stream",
          "name": "stdout",
          "text": [
            "Data-Science-AI\n"
          ]
        }
      ]
    },
    {
      "cell_type": "markdown",
      "source": [
        "**Changing case of string**\n",
        "\n",
        "1.   **upper()** - To convert all characters to upper case.\n",
        "2.   **lower()** - To convert all characters to lower case.\n",
        "3.   **swapcase()** - Converting upper to lower and lower to upper.\n",
        "4.   **title()** - To convert all characters to title case means first letter of every word in capital.\n",
        "5.   **capitalize()** - only first characters will be converted to capital and remaining in lower case.\n",
        "\n"
      ],
      "metadata": {
        "id": "2j5qxbZybZnd"
      }
    },
    {
      "cell_type": "code",
      "source": [
        "s = 'learning Python is very Easy'\n",
        "print(s.upper())\n",
        "print(s.lower())\n",
        "print(s.swapcase())\n",
        "print(s.title())\n",
        "print(s.capitalize())"
      ],
      "metadata": {
        "colab": {
          "base_uri": "https://localhost:8080/"
        },
        "id": "P9wg0vhucsj1",
        "outputId": "e19d222c-f97b-4983-e6ca-319b72a2d14b"
      },
      "execution_count": null,
      "outputs": [
        {
          "output_type": "stream",
          "name": "stdout",
          "text": [
            "LEARNING PYTHON IS VERY EASY\n",
            "learning python is very easy\n",
            "LEARNING pYTHON IS VERY eASY\n",
            "Learning Python Is Very Easy\n",
            "Learning python is very easy\n"
          ]
        }
      ]
    },
    {
      "cell_type": "markdown",
      "source": [
        "**To check type of characters present in string**\n",
        "\n",
        "1.   **isalnum()** : Returns True if all characters are alphanumeric.\n",
        "2.   **isalpha()** : Returns True if all characters are only alphabets.\n",
        "3. **isdigit()** : Returns True if all characters are digits only(0-9).\n",
        "4. **islower()** : Returns True if all characters are lower case letters.\n",
        "5. **isupper()** : Returns True if all characters are in upper case alphabets.\n",
        "6. **istitle()** : Returns True if string is in title case.\n",
        "7. **isspace()** : Returns True if string contains only spaces.\n",
        "\n"
      ],
      "metadata": {
        "id": "PZJ-bAS6efD5"
      }
    },
    {
      "cell_type": "code",
      "source": [
        "s ='Datascience786'\n",
        "print(s.isalnum())\n",
        "print('abc'.isalpha())\n",
        "print('Abc'.islower())\n",
        "print('ABC'.isupper())\n",
        "print('Learning Is Funny Thing'.istitle())\n",
        "print('Learns with fun'.isspace())"
      ],
      "metadata": {
        "colab": {
          "base_uri": "https://localhost:8080/"
        },
        "id": "GUetZmMphh6U",
        "outputId": "2c928277-89c5-4d6d-8d91-e2c77620cf0a"
      },
      "execution_count": null,
      "outputs": [
        {
          "output_type": "stream",
          "name": "stdout",
          "text": [
            "True\n",
            "True\n",
            "False\n",
            "True\n",
            "True\n",
            "False\n"
          ]
        }
      ]
    },
    {
      "cell_type": "markdown",
      "source": [
        "**Checking starting and Ending part of the string.**\n",
        "\n",
        "1.   s.startswith(substring)\n",
        "2.   s.endswith(substring)\n",
        "\n"
      ],
      "metadata": {
        "id": "2Wnu7Rq9fQTT"
      }
    },
    {
      "cell_type": "code",
      "source": [
        "s = 'I am learning datascience'\n",
        "print(s.startswith('I'))\n",
        "print(s.endswith('nce'))"
      ],
      "metadata": {
        "colab": {
          "base_uri": "https://localhost:8080/"
        },
        "id": "fkIYX0u1klXA",
        "outputId": "89766cf3-7178-4d69-c4e2-decba1b8b82f"
      },
      "execution_count": null,
      "outputs": [
        {
          "output_type": "stream",
          "name": "stdout",
          "text": [
            "True\n",
            "True\n"
          ]
        }
      ]
    },
    {
      "cell_type": "markdown",
      "source": [
        "**Formatting the strings**\n",
        "\n",
        "1.   We can format the strings with variable values by using **replacement operator { }** and **Format ( ) method.** \n",
        "\n",
        "\n"
      ],
      "metadata": {
        "id": "2Cgn27LBfLOb"
      }
    },
    {
      "cell_type": "code",
      "source": [
        "name = 'rajesh'\n",
        "salary = 10000\n",
        "age = 31\n",
        "print(\"{}'s salary is {} and his age is {}\".format(name,salary,age))\n",
        "print(\"{2}'s salary is {0} and his age is {1}\".format(salary,age,name))\n",
        "print(\"{y}'s salary is {z} and his age is {x}\".format(z=salary,x=age,y=name))"
      ],
      "metadata": {
        "colab": {
          "base_uri": "https://localhost:8080/"
        },
        "id": "eRgRgWOgmMHm",
        "outputId": "fa71e4bc-610a-4dae-bda5-2135a04f7bab"
      },
      "execution_count": null,
      "outputs": [
        {
          "output_type": "stream",
          "name": "stdout",
          "text": [
            "rajesh's salary is 10000 and his age is 31\n",
            "rajesh's salary is 10000 and his age is 31\n",
            "rajesh's salary is 10000 and his age is 31\n"
          ]
        }
      ]
    },
    {
      "cell_type": "code",
      "source": [
        "# Write the program to reverse the given string.\n",
        "s = input(\"Entersomething: \")\n",
        "print(s[::-1])\n",
        "\n",
        "s = \"rajesh\"\n",
        "print(''.join(reversed(s)))"
      ],
      "metadata": {
        "colab": {
          "base_uri": "https://localhost:8080/"
        },
        "id": "TpBuvN6DotoY",
        "outputId": "d258da22-ac37-4169-ecba-c6ada0d0c006"
      },
      "execution_count": null,
      "outputs": [
        {
          "output_type": "stream",
          "name": "stdout",
          "text": [
            "Entersomething: rajesh\n",
            "hsejar\n",
            "hsejar\n"
          ]
        }
      ]
    },
    {
      "cell_type": "code",
      "source": [
        "# Write program to reverse order of words.\n",
        "s = input(\"Enter: \")\n",
        "l = s.split()\n",
        "l1 =[]\n",
        "i = len(l)-1\n",
        "while i>=0:\n",
        "  l1.append(l[i])\n",
        "  i = i-1\n",
        "  output = ' '.join(l1)\n",
        "  if i==-1:\n",
        "    print(output)"
      ],
      "metadata": {
        "colab": {
          "base_uri": "https://localhost:8080/"
        },
        "id": "W9PvMpIqp5IO",
        "outputId": "b714fefe-9d10-40b9-85d6-c99a4de9e31d"
      },
      "execution_count": null,
      "outputs": [
        {
          "output_type": "stream",
          "name": "stdout",
          "text": [
            "Enter: laerning python is easy\n",
            "easy is python laerning\n"
          ]
        }
      ]
    },
    {
      "cell_type": "code",
      "source": [
        "a = 'python'\n",
        "i=0\n",
        "l =len(a)\n",
        "while i<l:\n",
        "  i = i+1\n",
        "print(a[i]) "
      ],
      "metadata": {
        "colab": {
          "base_uri": "https://localhost:8080/"
        },
        "id": "TUzI2DCP5JNc",
        "outputId": "726926d3-b06b-4368-e715-71ca981ec9de"
      },
      "execution_count": null,
      "outputs": [
        {
          "output_type": "stream",
          "name": "stdout",
          "text": [
            "h\n"
          ]
        }
      ]
    },
    {
      "cell_type": "code",
      "source": [],
      "metadata": {
        "id": "PZrK8Vtf1xKD"
      },
      "execution_count": null,
      "outputs": []
    }
  ]
}